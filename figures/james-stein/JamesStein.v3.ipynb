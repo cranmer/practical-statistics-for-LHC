{
 "metadata": {
  "celltoolbar": "Slideshow",
  "kernelspec": {
   "display_name": "Python 2",
   "language": "python",
   "name": "python2"
  },
  "language_info": {
   "codemirror_mode": {
    "name": "ipython",
    "version": 2
   },
   "file_extension": ".py",
   "mimetype": "text/x-python",
   "name": "python",
   "nbconvert_exporter": "python",
   "pygments_lexer": "ipython2",
   "version": "2.7.6"
  },
  "name": ""
 },
 "nbformat": 3,
 "nbformat_minor": 0,
 "worksheets": [
  {
   "cells": [
    {
     "cell_type": "markdown",
     "metadata": {
      "slideshow": {
       "slide_type": "slide"
      }
     },
     "source": [
      "# A Quick Demo of the James-Stein Estimator\n",
      "\n",
      "Kyle Cranmer, June 25, 2015\n",
      "\n",
      "[![](https://i.creativecommons.org/l/by/4.0/88x31.png)]( https://creativecommons.org/licenses/by/4.0/)"
     ]
    },
    {
     "cell_type": "markdown",
     "metadata": {
      "slideshow": {
       "slide_type": "slide"
      }
     },
     "source": [
      "## The Problem\n",
      "\n",
      "\n",
      "Consider a standard multivariate Gaussian distribution for $\\vec x$ in $n$ dimensions centered around $\\vec\\mu$\n",
      "\n",
      "\\begin{equation}\n",
      "f(\\vec{x}|\\vec{\\mu}) = \\prod_{i=1}^{n} \\frac{1}{\\sqrt{2\\pi}} \\exp\\left(-\\frac{(x_i- \\mu_i)^2}{2}\\right)\\;.\n",
      "\\end{equation}\n",
      "\n",
      "\n",
      "We want to compare the mean squared error\n",
      "\\begin{equation}\n",
      "E[||\\bar{\\vec x}-\\vec\\mu||^2])\n",
      "\\end{equation}\n",
      "\n",
      "of the sample mean (an unbiased estimator)\n",
      "\\begin{equation}\n",
      "\\overline x_i = \\frac{1}{m} \\sum_{j=1}^m x_{ij}\n",
      "\\end{equation}\n",
      "\n",
      "to the James-Stein estimator\n",
      "\\begin{equation}\n",
      "x_{JS} = \\left( 1 - \\frac{n-2}{||\\bar{x}||^2} \\right) \\bar{x} \n",
      "\\end{equation}\n",
      "\n",
      "\n",
      "(where $i$ is the component of the vector and $j$ is an index over the samples).\n"
     ]
    },
    {
     "cell_type": "code",
     "collapsed": false,
     "input": [
      "%pylab inline"
     ],
     "language": "python",
     "metadata": {
      "slideshow": {
       "slide_type": "slide"
      }
     },
     "outputs": [
      {
       "output_type": "stream",
       "stream": "stdout",
       "text": [
        "Populating the interactive namespace from numpy and matplotlib\n"
       ]
      }
     ],
     "prompt_number": 1
    },
    {
     "cell_type": "code",
     "collapsed": false,
     "input": [
      "def jamesSteinEstimator(x):\n",
      "    return x*(1. - (x.size-2.)/sum(x*x))"
     ],
     "language": "python",
     "metadata": {
      "slideshow": {
       "slide_type": "fragment"
      }
     },
     "outputs": [],
     "prompt_number": 2
    },
    {
     "cell_type": "code",
     "collapsed": false,
     "input": [
      "def RMS(x,mean):\n",
      "    return sqrt(sum((x-mean)*(x-mean)))"
     ],
     "language": "python",
     "metadata": {
      "slideshow": {
       "slide_type": "fragment"
      }
     },
     "outputs": [],
     "prompt_number": 3
    },
    {
     "cell_type": "code",
     "collapsed": false,
     "input": [
      "def doRun(nDim,nSamp=1000):\n",
      "    mean=zeros(nDim)\n",
      "    data = zeros(nDim*nSamp).reshape(nDim,nSamp)\n",
      "    for i in range(nDim):\n",
      "        mean[i] = 0.5 #set value of the mean's components here \n",
      "        data[i,:] = random.normal(mean[i],1,nSamp).T\n",
      "    data=data.T\n",
      "\n",
      "    avRMS_js = 0\n",
      "    avRMS_mle = 0\n",
      "    for x in data:\n",
      "        avRMS_js += RMS(jamesSteinEstimator(x),mean)\n",
      "        avRMS_mle += RMS(x,mean)\n",
      "    avRMS_js /= nSamp\n",
      "    avRMS_mle /= nSamp\n",
      "    return (avRMS_js, avRMS_mle)"
     ],
     "language": "python",
     "metadata": {
      "slideshow": {
       "slide_type": "fragment"
      }
     },
     "outputs": [],
     "prompt_number": 4
    },
    {
     "cell_type": "code",
     "collapsed": false,
     "input": [
      "nDimToTest = linspace(2,20)\n",
      "av_js = zeros(nDimToTest.size)\n",
      "av_mle = zeros(nDimToTest.size)\n",
      "for i,nDim in enumerate(nDimToTest):\n",
      "    [av_js[i], av_mle[i]] = doRun(int(nDim))"
     ],
     "language": "python",
     "metadata": {
      "slideshow": {
       "slide_type": "subslide"
      }
     },
     "outputs": [],
     "prompt_number": 5
    },
    {
     "cell_type": "code",
     "collapsed": false,
     "input": [
      "plt.plot(nDimToTest,av_js,c='b') #James Stein in blue\n",
      "plt.plot(nDimToTest,av_mle,c='r') #MLE in red\n",
      "plt.ylabel('Mean Squared Error')\n",
      "plt.xlabel('Dimensionality')\n",
      "plt.legend(('James-Stein', 'MLE'), loc='upper left')\n",
      "plt.savefig('james-stein.pdf')"
     ],
     "language": "python",
     "metadata": {
      "slideshow": {
       "slide_type": "fragment"
      }
     },
     "outputs": [
      {
       "metadata": {},
       "output_type": "display_data",
       "png": "[encoded data removed]",
       "text": [
        "<matplotlib.figure.Figure at 0x10d289750>"
       ]
      }
     ],
     "prompt_number": 6
    },
    {
     "cell_type": "code",
     "collapsed": false,
     "input": [],
     "language": "python",
     "metadata": {},
     "outputs": [],
     "prompt_number": null
    },
    {
     "cell_type": "code",
     "collapsed": true,
     "input": [],
     "language": "python",
     "metadata": {},
     "outputs": [],
     "prompt_number": null
    }
   ],
   "metadata": {}
  }
 ]
}