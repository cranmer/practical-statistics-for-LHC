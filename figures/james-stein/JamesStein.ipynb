{
 "cells": [
  {
   "cell_type": "markdown",
   "metadata": {
    "slideshow": {
     "slide_type": "slide"
    }
   },
   "source": [
    "# A Quick Demo of the James-Stein Estimator\n",
    "\n",
    "Kyle Cranmer, June 25, 2015\n",
    "\n",
    "[![](https://i.creativecommons.org/l/by/4.0/88x31.png)]( https://creativecommons.org/licenses/by/4.0/)"
   ]
  },
  {
   "cell_type": "markdown",
   "metadata": {
    "slideshow": {
     "slide_type": "slide"
    }
   },
   "source": [
    "## The Problem\n",
    "\n",
    "\n",
    "Consider a standard multivariate Gaussian distribution for $\\vec x$ in $n$ dimensions centered around $\\vec\\mu$\n",
    "\n",
    "\\begin{equation}\n",
    "f(\\vec{x}|\\vec{\\mu}) = \\prod_{i=1}^{n} \\frac{1}{\\sqrt{2\\pi}} \\exp\\left(-\\frac{(x_i- \\mu_i)^2}{2}\\right)\\;.\n",
    "\\end{equation}\n",
    "\n",
    "\n",
    "We want to compare the mean squared error\n",
    "\\begin{equation}\n",
    "E[||\\bar{\\vec x}-\\vec\\mu||^2])\n",
    "\\end{equation}\n",
    "\n",
    "of the sample mean (an unbiased estimator)\n",
    "\\begin{equation}\n",
    "\\overline x_i = \\frac{1}{m} \\sum_{j=1}^m x_{ij}\n",
    "\\end{equation}\n",
    "\n",
    "to the James-Stein estimator\n",
    "\\begin{equation}\n",
    "x_{JS} = \\left( 1 - \\frac{n-2}{||\\bar{x}||^2} \\right) \\bar{x} \n",
    "\\end{equation}\n",
    "\n",
    "\n",
    "(where $i$ is the component of the vector and $j$ is an index over the samples).\n"
   ]
  },
  {
   "cell_type": "code",
   "execution_count": 1,
   "metadata": {
    "collapsed": false,
    "slideshow": {
     "slide_type": "slide"
    }
   },
   "outputs": [
    {
     "name": "stdout",
     "output_type": "stream",
     "text": [
      "Populating the interactive namespace from numpy and matplotlib\n"
     ]
    }
   ],
   "source": [
    "%pylab inline"
   ]
  },
  {
   "cell_type": "code",
   "execution_count": 2,
   "metadata": {
    "collapsed": false,
    "slideshow": {
     "slide_type": "fragment"
    }
   },
   "outputs": [],
   "source": [
    "def jamesSteinEstimator(x):\n",
    "    return x*(1. - (x.size-2.)/sum(x*x))"
   ]
  },
  {
   "cell_type": "code",
   "execution_count": 3,
   "metadata": {
    "collapsed": false,
    "slideshow": {
     "slide_type": "fragment"
    }
   },
   "outputs": [],
   "source": [
    "def RMS(x,mean):\n",
    "    return sqrt(sum((x-mean)*(x-mean)))"
   ]
  },
  {
   "cell_type": "code",
   "execution_count": 4,
   "metadata": {
    "collapsed": false,
    "slideshow": {
     "slide_type": "fragment"
    }
   },
   "outputs": [],
   "source": [
    "def doRun(nDim,nSamp=1000):\n",
    "    mean=zeros(nDim)\n",
    "    data = zeros(nDim*nSamp).reshape(nDim,nSamp)\n",
    "    for i in range(nDim):\n",
    "        mean[i] = 0.5 #set value of the mean's components here \n",
    "        data[i,:] = random.normal(mean[i],1,nSamp).T\n",
    "    data=data.T\n",
    "\n",
    "    avRMS_js = 0\n",
    "    avRMS_mle = 0\n",
    "    for x in data:\n",
    "        avRMS_js += RMS(jamesSteinEstimator(x),mean)\n",
    "        avRMS_mle += RMS(x,mean)\n",
    "    avRMS_js /= nSamp\n",
    "    avRMS_mle /= nSamp\n",
    "    return (avRMS_js, avRMS_mle)"
   ]
  },
  {
   "cell_type": "code",
   "execution_count": 5,
   "metadata": {
    "collapsed": false,
    "slideshow": {
     "slide_type": "subslide"
    }
   },
   "outputs": [],
   "source": [
    "nDimToTest = linspace(2,20)\n",
    "av_js = zeros(nDimToTest.size)\n",
    "av_mle = zeros(nDimToTest.size)\n",
    "for i,nDim in enumerate(nDimToTest):\n",
    "    [av_js[i], av_mle[i]] = doRun(int(nDim))"
   ]
  },
  {
   "cell_type": "code",
   "execution_count": 6,
   "metadata": {
    "collapsed": false,
    "slideshow": {
     "slide_type": "fragment"
    }
   },
   "outputs": [
    {
     "data": {
      "image/png": "[encoded data removed]",
      "text/plain": [
       "<matplotlib.figure.Figure at 0x10e76f650>"
      ]
     },
     "metadata": {},
     "output_type": "display_data"
    }
   ],
   "source": [
    "plt.plot(nDimToTest,av_js,c='b') #James Stein in blue\n",
    "plt.plot(nDimToTest,av_mle,c='r') #MLE in red\n",
    "plt.ylabel('Mean Squared Error')\n",
    "plt.xlabel('Dimensionality')\n",
    "plt.legend(('James-Stein', 'MLE'), loc='upper left')\n",
    "plt.savefig('james-stein.pdf')"
   ]
  },
  {
   "cell_type": "code",
   "execution_count": null,
   "metadata": {
    "collapsed": false
   },
   "outputs": [],
   "source": []
  },
  {
   "cell_type": "code",
   "execution_count": null,
   "metadata": {
    "collapsed": true
   },
   "outputs": [],
   "source": []
  }
 ],
 "metadata": {
  "celltoolbar": "Slideshow",
  "kernelspec": {
   "display_name": "Python 2",
   "language": "python",
   "name": "python2"
  },
  "language_info": {
   "codemirror_mode": {
    "name": "ipython",
    "version": 2
   },
   "file_extension": ".py",
   "mimetype": "text/x-python",
   "name": "python",
   "nbconvert_exporter": "python",
   "pygments_lexer": "ipython2",
   "version": "2.7.6"
  }
 },
 "nbformat": 4,
 "nbformat_minor": 0
}
